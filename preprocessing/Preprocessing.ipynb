{
 "cells": [
  {
   "cell_type": "code",
   "execution_count": 1,
   "metadata": {},
   "outputs": [],
   "source": [
    "import pandas as pd\n",
    "import numpy as np\n",
    "from tqdm import tqdm\n",
    "import json\n",
    "from geopy import Nominatim\n"
   ]
  },
  {
   "cell_type": "code",
   "execution_count": 2,
   "metadata": {},
   "outputs": [
    {
     "data": {
      "text/plain": [
       "((2530, 10),\n",
       " Index(['REF', 'Company (Manufacturer)', 'Company Location', 'Review Date',\n",
       "        'Country of Bean Origin', 'Specific Bean Origin or Bar Name',\n",
       "        'Cocoa Percent', 'Ingredients', 'Most Memorable Characteristics',\n",
       "        'Rating'],\n",
       "       dtype='object'))"
      ]
     },
     "execution_count": 2,
     "metadata": {},
     "output_type": "execute_result"
    }
   ],
   "source": [
    "ratings = pd.read_csv('../data/chocolate_ratings.csv')\n",
    "ratings.shape, ratings.columns"
   ]
  },
  {
   "cell_type": "code",
   "execution_count": 3,
   "metadata": {},
   "outputs": [],
   "source": [
    "def findGeocode(place):  \n",
    "    '''Finds the geocode of any location'''\n",
    "    try:\n",
    "        geolocator = Nominatim(user_agent=\"\") ##user agent should be created\n",
    "        return geolocator.geocode(place) \n",
    "    except Exception as e:\n",
    "        print(e)\n",
    "        return None\n"
   ]
  },
  {
   "cell_type": "code",
   "execution_count": 7,
   "metadata": {},
   "outputs": [
    {
     "name": "stderr",
     "output_type": "stream",
     "text": [
      "100%|██████████| 67/67 [00:33<00:00,  2.01it/s]\n"
     ]
    }
   ],
   "source": [
    "places = list(ratings['Company Location'].unique())\n",
    "\n",
    "lat_long = []\n",
    "# use geopy to extract coordinates from place names\n",
    "for place in tqdm(places): \n",
    "        loc = findGeocode(place) \n",
    "        lat_long.append({'latitude': loc.latitude, 'longitude': loc.longitude})\n"
   ]
  },
  {
   "cell_type": "code",
   "execution_count": 8,
   "metadata": {},
   "outputs": [
    {
     "data": {
      "text/plain": [
       "[{'latitude': 28.41769265, 'longitude': -81.58111071077724},\n",
       " {'latitude': 46.603354, 'longitude': 1.8883335}]"
      ]
     },
     "execution_count": 8,
     "metadata": {},
     "output_type": "execute_result"
    }
   ],
   "source": [
    "lat_long[:2]"
   ]
  },
  {
   "cell_type": "code",
   "execution_count": 13,
   "metadata": {},
   "outputs": [],
   "source": [
    "with open('country_locations.json', 'w') as outfile:\n",
    "    json.dump(lat_long, outfile, )"
   ]
  },
  {
   "cell_type": "code",
   "execution_count": null,
   "metadata": {},
   "outputs": [],
   "source": []
  },
  {
   "cell_type": "code",
   "execution_count": 15,
   "metadata": {},
   "outputs": [
    {
     "data": {
      "text/plain": [
       "((373, 5),\n",
       " Index(['COMPANY NAME', 'CITY', 'STATE/PROVINCE', 'OWNER/MAKER', 'COUNTRY'], dtype='object'))"
      ]
     },
     "execution_count": 15,
     "metadata": {},
     "output_type": "execute_result"
    }
   ],
   "source": [
    "makers = pd.read_csv('../data/chocolate_makers.csv')\n",
    "makers.shape, makers.columns"
   ]
  },
  {
   "cell_type": "code",
   "execution_count": 17,
   "metadata": {},
   "outputs": [
    {
     "name": "stderr",
     "output_type": "stream",
     "text": [
      "100%|██████████| 59/59 [00:32<00:00,  1.82it/s]\n"
     ]
    }
   ],
   "source": [
    "places = list(makers['STATE/PROVINCE'].unique())\n",
    "\n",
    "lat_long = []\n",
    "# use geopy to extract coordinates from place names\n",
    "for place in tqdm(places): \n",
    "        loc = findGeocode(place) \n",
    "        lat_long.append({'latitude': loc.latitude, 'longitude': loc.longitude})\n"
   ]
  },
  {
   "cell_type": "code",
   "execution_count": 18,
   "metadata": {},
   "outputs": [],
   "source": [
    "with open('state_locations.json', 'w') as outfile:\n",
    "    json.dump(lat_long, outfile, )"
   ]
  },
  {
   "cell_type": "code",
   "execution_count": 21,
   "metadata": {},
   "outputs": [
    {
     "name": "stderr",
     "output_type": "stream",
     "text": [
      " 21%|██        | 55/266 [00:27<01:43,  2.03it/s]"
     ]
    },
    {
     "name": "stdout",
     "output_type": "stream",
     "text": [
      "Ascata\n"
     ]
    },
    {
     "name": "stderr",
     "output_type": "stream",
     "text": [
      " 41%|████      | 108/266 [00:53<01:24,  1.87it/s]"
     ]
    },
    {
     "name": "stdout",
     "output_type": "stream",
     "text": [
      "Anahola (Kaua'I)\n"
     ]
    },
    {
     "name": "stderr",
     "output_type": "stream",
     "text": [
      " 71%|███████   | 189/266 [01:35<00:40,  1.90it/s]"
     ]
    },
    {
     "name": "stdout",
     "output_type": "stream",
     "text": [
      "Swamanoa\n"
     ]
    },
    {
     "name": "stderr",
     "output_type": "stream",
     "text": [
      " 82%|████████▏ | 217/266 [01:49<00:24,  2.03it/s]"
     ]
    },
    {
     "name": "stdout",
     "output_type": "stream",
     "text": [
      "Chattonooga\n"
     ]
    },
    {
     "name": "stderr",
     "output_type": "stream",
     "text": [
      "100%|██████████| 266/266 [02:14<00:00,  1.97it/s]\n"
     ]
    }
   ],
   "source": [
    "places = list(makers['CITY'].unique())\n",
    "\n",
    "lat_long = []\n",
    "# use geopy to extract coordinates from place names\n",
    "for place in tqdm(places): \n",
    "        loc = findGeocode(place) \n",
    "        try:\n",
    "                lat_long.append({'latitude': loc.latitude, 'longitude': loc.longitude})\n",
    "        except:\n",
    "                print(place)"
   ]
  },
  {
   "cell_type": "code",
   "execution_count": 22,
   "metadata": {},
   "outputs": [],
   "source": [
    "with open('city_locations.json', 'w') as outfile:\n",
    "    json.dump(lat_long, outfile, )"
   ]
  },
  {
   "cell_type": "code",
   "execution_count": null,
   "metadata": {},
   "outputs": [],
   "source": []
  }
 ],
 "metadata": {
  "interpreter": {
   "hash": "8e2673524e24647dcb01ed6037d323486da29d546bf954a37cc5c6513d25d62d"
  },
  "kernelspec": {
   "display_name": "ada",
   "language": "python",
   "name": "python3"
  },
  "language_info": {
   "codemirror_mode": {
    "name": "ipython",
    "version": 3
   },
   "file_extension": ".py",
   "mimetype": "text/x-python",
   "name": "python",
   "nbconvert_exporter": "python",
   "pygments_lexer": "ipython3",
   "version": "3.8.5"
  },
  "orig_nbformat": 4
 },
 "nbformat": 4,
 "nbformat_minor": 2
}
