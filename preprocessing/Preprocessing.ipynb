{
 "cells": [
  {
   "cell_type": "code",
   "execution_count": 1,
   "metadata": {},
   "outputs": [],
   "source": [
    "import pandas as pd\n",
    "import numpy as np\n",
    "from tqdm import tqdm\n",
    "import json\n",
    "from geopy import Nominatim\n"
   ]
  },
  {
   "cell_type": "code",
   "execution_count": 2,
   "metadata": {},
   "outputs": [
    {
     "data": {
      "text/plain": [
       "((2530, 10),\n",
       " Index(['REF', 'Company (Manufacturer)', 'Company Location', 'Review Date',\n",
       "        'Country of Bean Origin', 'Specific Bean Origin or Bar Name',\n",
       "        'Cocoa Percent', 'Ingredients', 'Most Memorable Characteristics',\n",
       "        'Rating'],\n",
       "       dtype='object'))"
      ]
     },
     "execution_count": 2,
     "metadata": {},
     "output_type": "execute_result"
    }
   ],
   "source": [
    "ratings = pd.read_csv('../data/chocolate_ratings.csv')\n",
    "ratings.shape, ratings.columns"
   ]
  },
  {
   "cell_type": "code",
   "execution_count": 3,
   "metadata": {},
   "outputs": [],
   "source": [
    "ratings['Cocoa Percent Int'] = ratings['Cocoa Percent'].str[:2].astype(int)\n",
    "\n",
    "abbrev2ingredient = {'B':'Beans', 'S':'Sugar', 'S*': 'Sweetener other than white cane or beet sugar', 'C':'Cocoa Butter', \n",
    "                    'V': 'Vanilla', 'L': 'Lecithin', 'Sa': 'Salt', '':''}\n",
    "\n",
    "ratings['Ingredients List'] = [[abbrev2ingredient[x] for x in i[1].strip().split(',')] for i in ratings['Ingredients'].fillna('0 - ').str.split('-')]\n",
    "\n",
    "ratings['Most Memorable Characteristics List'] = ratings['Most Memorable Characteristics'].fillna(',').str.split(', ')"
   ]
  },
  {
   "cell_type": "code",
   "execution_count": 4,
   "metadata": {},
   "outputs": [
    {
     "data": {
      "text/html": [
       "<div>\n",
       "<style scoped>\n",
       "    .dataframe tbody tr th:only-of-type {\n",
       "        vertical-align: middle;\n",
       "    }\n",
       "\n",
       "    .dataframe tbody tr th {\n",
       "        vertical-align: top;\n",
       "    }\n",
       "\n",
       "    .dataframe thead th {\n",
       "        text-align: right;\n",
       "    }\n",
       "</style>\n",
       "<table border=\"1\" class=\"dataframe\">\n",
       "  <thead>\n",
       "    <tr style=\"text-align: right;\">\n",
       "      <th></th>\n",
       "      <th>REF</th>\n",
       "      <th>Company (Manufacturer)</th>\n",
       "      <th>Company Location</th>\n",
       "      <th>Review Date</th>\n",
       "      <th>Country of Bean Origin</th>\n",
       "      <th>Specific Bean Origin or Bar Name</th>\n",
       "      <th>Cocoa Percent</th>\n",
       "      <th>Ingredients</th>\n",
       "      <th>Most Memorable Characteristics</th>\n",
       "      <th>Rating</th>\n",
       "      <th>Cocoa Percent Int</th>\n",
       "      <th>Ingredients List</th>\n",
       "      <th>Most Memorable Characteristics List</th>\n",
       "    </tr>\n",
       "  </thead>\n",
       "  <tbody>\n",
       "    <tr>\n",
       "      <th>0</th>\n",
       "      <td>2454</td>\n",
       "      <td>5150</td>\n",
       "      <td>U.S.A.</td>\n",
       "      <td>2019</td>\n",
       "      <td>Tanzania</td>\n",
       "      <td>Kokoa Kamili, batch 1</td>\n",
       "      <td>76%</td>\n",
       "      <td>3- B,S,C</td>\n",
       "      <td>rich cocoa, fatty, bready</td>\n",
       "      <td>3.25</td>\n",
       "      <td>76</td>\n",
       "      <td>[Beans, Sugar, Cocoa Butter]</td>\n",
       "      <td>[rich cocoa, fatty, bready]</td>\n",
       "    </tr>\n",
       "    <tr>\n",
       "      <th>1</th>\n",
       "      <td>2458</td>\n",
       "      <td>5150</td>\n",
       "      <td>U.S.A.</td>\n",
       "      <td>2019</td>\n",
       "      <td>Dominican Republic</td>\n",
       "      <td>Zorzal, batch 1</td>\n",
       "      <td>76%</td>\n",
       "      <td>3- B,S,C</td>\n",
       "      <td>cocoa, vegetal, savory</td>\n",
       "      <td>3.50</td>\n",
       "      <td>76</td>\n",
       "      <td>[Beans, Sugar, Cocoa Butter]</td>\n",
       "      <td>[cocoa, vegetal, savory]</td>\n",
       "    </tr>\n",
       "    <tr>\n",
       "      <th>2</th>\n",
       "      <td>2454</td>\n",
       "      <td>5150</td>\n",
       "      <td>U.S.A.</td>\n",
       "      <td>2019</td>\n",
       "      <td>Madagascar</td>\n",
       "      <td>Bejofo Estate, batch 1</td>\n",
       "      <td>76%</td>\n",
       "      <td>3- B,S,C</td>\n",
       "      <td>cocoa, blackberry, full body</td>\n",
       "      <td>3.75</td>\n",
       "      <td>76</td>\n",
       "      <td>[Beans, Sugar, Cocoa Butter]</td>\n",
       "      <td>[cocoa, blackberry, full body]</td>\n",
       "    </tr>\n",
       "    <tr>\n",
       "      <th>3</th>\n",
       "      <td>2542</td>\n",
       "      <td>5150</td>\n",
       "      <td>U.S.A.</td>\n",
       "      <td>2021</td>\n",
       "      <td>Fiji</td>\n",
       "      <td>Matasawalevu, batch 1</td>\n",
       "      <td>68%</td>\n",
       "      <td>3- B,S,C</td>\n",
       "      <td>chewy, off, rubbery</td>\n",
       "      <td>3.00</td>\n",
       "      <td>68</td>\n",
       "      <td>[Beans, Sugar, Cocoa Butter]</td>\n",
       "      <td>[chewy, off, rubbery]</td>\n",
       "    </tr>\n",
       "    <tr>\n",
       "      <th>4</th>\n",
       "      <td>2546</td>\n",
       "      <td>5150</td>\n",
       "      <td>U.S.A.</td>\n",
       "      <td>2021</td>\n",
       "      <td>Venezuela</td>\n",
       "      <td>Sur del Lago, batch 1</td>\n",
       "      <td>72%</td>\n",
       "      <td>3- B,S,C</td>\n",
       "      <td>fatty, earthy, moss, nutty,chalky</td>\n",
       "      <td>3.00</td>\n",
       "      <td>72</td>\n",
       "      <td>[Beans, Sugar, Cocoa Butter]</td>\n",
       "      <td>[fatty, earthy, moss, nutty,chalky]</td>\n",
       "    </tr>\n",
       "  </tbody>\n",
       "</table>\n",
       "</div>"
      ],
      "text/plain": [
       "    REF Company (Manufacturer) Company Location  Review Date  \\\n",
       "0  2454                   5150           U.S.A.         2019   \n",
       "1  2458                   5150           U.S.A.         2019   \n",
       "2  2454                   5150           U.S.A.         2019   \n",
       "3  2542                   5150           U.S.A.         2021   \n",
       "4  2546                   5150           U.S.A.         2021   \n",
       "\n",
       "  Country of Bean Origin Specific Bean Origin or Bar Name Cocoa Percent  \\\n",
       "0               Tanzania            Kokoa Kamili, batch 1           76%   \n",
       "1     Dominican Republic                  Zorzal, batch 1           76%   \n",
       "2             Madagascar           Bejofo Estate, batch 1           76%   \n",
       "3                   Fiji            Matasawalevu, batch 1           68%   \n",
       "4              Venezuela            Sur del Lago, batch 1           72%   \n",
       "\n",
       "  Ingredients     Most Memorable Characteristics  Rating  Cocoa Percent Int  \\\n",
       "0    3- B,S,C          rich cocoa, fatty, bready    3.25                 76   \n",
       "1    3- B,S,C             cocoa, vegetal, savory    3.50                 76   \n",
       "2    3- B,S,C       cocoa, blackberry, full body    3.75                 76   \n",
       "3    3- B,S,C                chewy, off, rubbery    3.00                 68   \n",
       "4    3- B,S,C  fatty, earthy, moss, nutty,chalky    3.00                 72   \n",
       "\n",
       "               Ingredients List  Most Memorable Characteristics List  \n",
       "0  [Beans, Sugar, Cocoa Butter]          [rich cocoa, fatty, bready]  \n",
       "1  [Beans, Sugar, Cocoa Butter]             [cocoa, vegetal, savory]  \n",
       "2  [Beans, Sugar, Cocoa Butter]       [cocoa, blackberry, full body]  \n",
       "3  [Beans, Sugar, Cocoa Butter]                [chewy, off, rubbery]  \n",
       "4  [Beans, Sugar, Cocoa Butter]  [fatty, earthy, moss, nutty,chalky]  "
      ]
     },
     "execution_count": 4,
     "metadata": {},
     "output_type": "execute_result"
    }
   ],
   "source": [
    "ratings.head()"
   ]
  },
  {
   "cell_type": "code",
   "execution_count": 5,
   "metadata": {},
   "outputs": [],
   "source": [
    "def findGeocode(place):  \n",
    "    '''Finds the geocode of any location'''\n",
    "    try:\n",
    "        geolocator = Nominatim(user_agent=\"\") ##user agent should be created\n",
    "        return geolocator.geocode(place) \n",
    "    except Exception as e:\n",
    "        print(e)\n",
    "        return None\n"
   ]
  },
  {
   "cell_type": "code",
   "execution_count": 6,
   "metadata": {},
   "outputs": [],
   "source": [
    "places = list(ratings['Company Location'].unique())"
   ]
  },
  {
   "cell_type": "code",
   "execution_count": 7,
   "metadata": {},
   "outputs": [
    {
     "name": "stderr",
     "output_type": "stream",
     "text": [
      "100%|██████████| 67/67 [00:33<00:00,  2.01it/s]\n"
     ]
    }
   ],
   "source": [
    "lat_long = []\n",
    "# use geopy to extract coordinates from place names\n",
    "for place in tqdm(places): \n",
    "        loc = findGeocode(place) \n",
    "        lat_long.append({'latitude': loc.latitude, 'longitude': loc.longitude})\n"
   ]
  },
  {
   "cell_type": "code",
   "execution_count": 13,
   "metadata": {},
   "outputs": [],
   "source": [
    "with open('jsons/country_locations.json', 'w') as outfile:\n",
    "    json.dump(lat_long, outfile, )"
   ]
  },
  {
   "cell_type": "code",
   "execution_count": 7,
   "metadata": {},
   "outputs": [
    {
     "name": "stdout",
     "output_type": "stream",
     "text": [
      "[{'latitude': 28.41769265, 'longitude': -81.58111071077724}, {'latitude': 46.603354, 'longitude': 1.8883335}]\n"
     ]
    }
   ],
   "source": [
    "with open('jsons/country_locations.json', 'r') as infile:\n",
    "    lat_long = json.load(infile, )\n",
    "\n",
    "print(lat_long[:2])\n",
    "places_dic = {places[i]:lat_long[i] for i in range(len(lat_long))}"
   ]
  },
  {
   "cell_type": "code",
   "execution_count": 15,
   "metadata": {},
   "outputs": [],
   "source": [
    "aggregations = {'Company Location': ['count', ], #'first' \n",
    "                'Company (Manufacturer)': lambda x: list(x),\n",
    "                'Review Date': [lambda x: list(x), lambda x: int(np.mean(x))], \n",
    "                'Country of Bean Origin': lambda x: list(x), \n",
    "                'Specific Bean Origin or Bar Name': lambda x: list(x),\n",
    "                'Cocoa Percent': lambda x: list(x),\n",
    "                'Cocoa Percent Int': lambda x: np.round(np.mean(x), 2),\n",
    "                'Rating': [lambda x: list(x), lambda x: np.round(np.mean(x), 2)],\n",
    "                'Ingredients List': ['sum', lambda x: list(x)],\n",
    "                'Most Memorable Characteristics List': ['sum', lambda x: list(x)],\n",
    "                }"
   ]
  },
  {
   "cell_type": "code",
   "execution_count": 16,
   "metadata": {},
   "outputs": [
    {
     "data": {
      "text/html": [
       "<div>\n",
       "<style scoped>\n",
       "    .dataframe tbody tr th:only-of-type {\n",
       "        vertical-align: middle;\n",
       "    }\n",
       "\n",
       "    .dataframe tbody tr th {\n",
       "        vertical-align: top;\n",
       "    }\n",
       "\n",
       "    .dataframe thead th {\n",
       "        text-align: right;\n",
       "    }\n",
       "</style>\n",
       "<table border=\"1\" class=\"dataframe\">\n",
       "  <thead>\n",
       "    <tr style=\"text-align: right;\">\n",
       "      <th></th>\n",
       "      <th>company_location_name</th>\n",
       "      <th>company_location_count</th>\n",
       "      <th>company_names_list</th>\n",
       "      <th>review_date_list</th>\n",
       "      <th>review_date_mean</th>\n",
       "      <th>country_bean_origin_list</th>\n",
       "      <th>specific_bean_origin_list</th>\n",
       "      <th>cocoa_percent_list</th>\n",
       "      <th>cocoa_percent_mean</th>\n",
       "      <th>rating_list</th>\n",
       "      <th>rating_mean</th>\n",
       "      <th>ingredients_lists</th>\n",
       "      <th>ingredients_list_of_list</th>\n",
       "      <th>memorable_characteristics_lists</th>\n",
       "      <th>memorable_characteristics_list_of_list</th>\n",
       "      <th>latitude</th>\n",
       "      <th>longitude</th>\n",
       "    </tr>\n",
       "  </thead>\n",
       "  <tbody>\n",
       "    <tr>\n",
       "      <th>24</th>\n",
       "      <td>Hungary</td>\n",
       "      <td>26</td>\n",
       "      <td>[Chococard (Lapos), Chococard (Lapos), Rozsavo...</td>\n",
       "      <td>[2019, 2019, 2011, 2011, 2011, 2011, 2012, 201...</td>\n",
       "      <td>2013</td>\n",
       "      <td>[Nicaragua, Dominican Republic, Venezuela, Pri...</td>\n",
       "      <td>[La Dalia, Zorzal, Porcelana, Principe, Carene...</td>\n",
       "      <td>[72%, 71%, 71%, 77%, 73%, 70%, 76%, 84%, 72%, ...</td>\n",
       "      <td>72.27</td>\n",
       "      <td>[2.5, 3.25, 2.5, 2.75, 3.5, 3.5, 2.25, 2.5, 2....</td>\n",
       "      <td>3.22</td>\n",
       "      <td>[Beans, Sugar, Cocoa Butter, Beans, Sugar, Coc...</td>\n",
       "      <td>[[Beans, Sugar, Cocoa Butter], [Beans, Sugar, ...</td>\n",
       "      <td>[grassy, rubbery, chunky, spicy, rubbery, inte...</td>\n",
       "      <td>[[grassy, rubbery], [chunky, spicy, rubbery], ...</td>\n",
       "      <td>47.181759</td>\n",
       "      <td>19.506094</td>\n",
       "    </tr>\n",
       "  </tbody>\n",
       "</table>\n",
       "</div>"
      ],
      "text/plain": [
       "   company_location_name  company_location_count  \\\n",
       "24               Hungary                      26   \n",
       "\n",
       "                                   company_names_list  \\\n",
       "24  [Chococard (Lapos), Chococard (Lapos), Rozsavo...   \n",
       "\n",
       "                                     review_date_list  review_date_mean  \\\n",
       "24  [2019, 2019, 2011, 2011, 2011, 2011, 2012, 201...              2013   \n",
       "\n",
       "                             country_bean_origin_list  \\\n",
       "24  [Nicaragua, Dominican Republic, Venezuela, Pri...   \n",
       "\n",
       "                            specific_bean_origin_list  \\\n",
       "24  [La Dalia, Zorzal, Porcelana, Principe, Carene...   \n",
       "\n",
       "                                   cocoa_percent_list  cocoa_percent_mean  \\\n",
       "24  [72%, 71%, 71%, 77%, 73%, 70%, 76%, 84%, 72%, ...               72.27   \n",
       "\n",
       "                                          rating_list  rating_mean  \\\n",
       "24  [2.5, 3.25, 2.5, 2.75, 3.5, 3.5, 2.25, 2.5, 2....         3.22   \n",
       "\n",
       "                                    ingredients_lists  \\\n",
       "24  [Beans, Sugar, Cocoa Butter, Beans, Sugar, Coc...   \n",
       "\n",
       "                             ingredients_list_of_list  \\\n",
       "24  [[Beans, Sugar, Cocoa Butter], [Beans, Sugar, ...   \n",
       "\n",
       "                      memorable_characteristics_lists  \\\n",
       "24  [grassy, rubbery, chunky, spicy, rubbery, inte...   \n",
       "\n",
       "               memorable_characteristics_list_of_list   latitude  longitude  \n",
       "24  [[grassy, rubbery], [chunky, spicy, rubbery], ...  47.181759  19.506094  "
      ]
     },
     "execution_count": 16,
     "metadata": {},
     "output_type": "execute_result"
    }
   ],
   "source": [
    "aggregated = ratings.groupby('Company Location').agg(aggregations).reset_index()\n",
    "aggregated.columns = ['company_location_name', 'company_location_count', 'company_names_list', 'review_date_list', 'review_date_mean', 'country_bean_origin_list',\n",
    "                      'specific_bean_origin_list', 'cocoa_percent_list', 'cocoa_percent_mean', 'rating_list', 'rating_mean', 'ingredients_lists',\n",
    "                      'ingredients_list_of_list', 'memorable_characteristics_lists', 'memorable_characteristics_list_of_list']\n",
    "aggregated['latitude'] = [places_dic[loc]['latitude'] for loc in aggregated['company_location_name']]\n",
    "aggregated['longitude'] = [places_dic[loc]['longitude'] for loc in aggregated['company_location_name']]\n",
    "aggregated.sample()"
   ]
  },
  {
   "cell_type": "code",
   "execution_count": 19,
   "metadata": {},
   "outputs": [
    {
     "data": {
      "text/plain": [
       "['company_names_list',\n",
       " 'review_date_list',\n",
       " 'country_bean_origin_list',\n",
       " 'specific_bean_origin_list',\n",
       " 'cocoa_percent_list',\n",
       " 'rating_list',\n",
       " 'ingredients_list_of_list',\n",
       " 'memorable_characteristics_list_of_list']"
      ]
     },
     "execution_count": 19,
     "metadata": {},
     "output_type": "execute_result"
    }
   ],
   "source": [
    "to_nest = [col for col in aggregated.columns if col.split('_')[-1] == 'list']\n",
    "to_nest"
   ]
  },
  {
   "cell_type": "code",
   "execution_count": 30,
   "metadata": {},
   "outputs": [
    {
     "data": {
      "text/plain": [
       "{'company_location_name': 'Argentina',\n",
       " 'company_location_count': 9,\n",
       " 'review_date_mean': 2008,\n",
       " 'cocoa_percent_mean': 73.33,\n",
       " 'rating_mean': 3.31,\n",
       " 'ingredients_lists': ['',\n",
       "  '',\n",
       "  '',\n",
       "  '',\n",
       "  '',\n",
       "  'Beans',\n",
       "  'Sugar',\n",
       "  'Cocoa Butter',\n",
       "  'Lecithin',\n",
       "  'Beans',\n",
       "  'Sugar',\n",
       "  'Cocoa Butter',\n",
       "  'Lecithin',\n",
       "  'Beans',\n",
       "  'Sugar',\n",
       "  'Cocoa Butter',\n",
       "  'Lecithin',\n",
       "  'Beans',\n",
       "  'Sugar',\n",
       "  'Cocoa Butter',\n",
       "  'Lecithin'],\n",
       " 'memorable_characteristics_lists': ['very sour',\n",
       "  'mildly bitter',\n",
       "  'slightly burnt',\n",
       "  'mildly bitter',\n",
       "  'dry',\n",
       "  'coffee',\n",
       "  'sour',\n",
       "  'minty',\n",
       "  'nutty',\n",
       "  'nutmeg',\n",
       "  'cocoa then roasted nut',\n",
       "  'creamy',\n",
       "  'vanilla',\n",
       "  'rich',\n",
       "  'nutty',\n",
       "  'spicy',\n",
       "  'floral',\n",
       "  'nutty',\n",
       "  'basic cocoa',\n",
       "  'floral',\n",
       "  'spicey'],\n",
       " 'latitude': -34.9964963,\n",
       " 'longitude': -64.9672817,\n",
       " 'card': [{'company_names_list': 'Compania de Chocolate (Salgado)'},\n",
       "  {'review_date_list': 2008},\n",
       "  {'country_bean_origin_list': 'Venezuela'},\n",
       "  {'specific_bean_origin_list': 'Carenero Superior'},\n",
       "  {'cocoa_percent_list': '80%'},\n",
       "  {'rating_list': 2.75},\n",
       "  {'ingredients_list_of_list': ['']},\n",
       "  {'memorable_characteristics_list_of_list': ['very sour', 'mildly bitter']},\n",
       "  {'company_names_list': 'Compania de Chocolate (Salgado)'},\n",
       "  {'review_date_list': 2008},\n",
       "  {'country_bean_origin_list': 'Ecuador'},\n",
       "  {'specific_bean_origin_list': 'Esmeraldas'},\n",
       "  {'cocoa_percent_list': '88%'},\n",
       "  {'rating_list': 2.75},\n",
       "  {'ingredients_list_of_list': ['']},\n",
       "  {'memorable_characteristics_list_of_list': ['slightly burnt',\n",
       "    'mildly bitter']},\n",
       "  {'company_names_list': 'Compania de Chocolate (Salgado)'},\n",
       "  {'review_date_list': 2008},\n",
       "  {'country_bean_origin_list': 'Bolivia'},\n",
       "  {'specific_bean_origin_list': 'Moxos'},\n",
       "  {'cocoa_percent_list': '72%'},\n",
       "  {'rating_list': 3.25},\n",
       "  {'ingredients_list_of_list': ['']},\n",
       "  {'memorable_characteristics_list_of_list': ['dry', 'coffee', 'sour']},\n",
       "  {'company_names_list': 'Compania de Chocolate (Salgado)'},\n",
       "  {'review_date_list': 2008},\n",
       "  {'country_bean_origin_list': 'Venezuela'},\n",
       "  {'specific_bean_origin_list': 'Ocumare'},\n",
       "  {'cocoa_percent_list': '70%'},\n",
       "  {'rating_list': 3.75},\n",
       "  {'ingredients_list_of_list': ['']},\n",
       "  {'memorable_characteristics_list_of_list': ['minty', 'nutty', 'nutmeg']},\n",
       "  {'company_names_list': 'Compania de Chocolate (Salgado)'},\n",
       "  {'review_date_list': 2010},\n",
       "  {'country_bean_origin_list': 'Venezuela'},\n",
       "  {'specific_bean_origin_list': 'Sur del Lago'},\n",
       "  {'cocoa_percent_list': '70%'},\n",
       "  {'rating_list': 3.25},\n",
       "  {'ingredients_list_of_list': ['']},\n",
       "  {'memorable_characteristics_list_of_list': ['cocoa then roasted nut']},\n",
       "  {'company_names_list': 'Salgado'},\n",
       "  {'review_date_list': 2008},\n",
       "  {'country_bean_origin_list': 'Brazil'},\n",
       "  {'specific_bean_origin_list': 'Bahia Superior'},\n",
       "  {'cocoa_percent_list': '70%'},\n",
       "  {'rating_list': 3.5},\n",
       "  {'ingredients_list_of_list': ['Beans', 'Sugar', 'Cocoa Butter', 'Lecithin']},\n",
       "  {'memorable_characteristics_list_of_list': ['creamy', 'vanilla', 'rich']},\n",
       "  {'company_names_list': 'Salgado'},\n",
       "  {'review_date_list': 2008},\n",
       "  {'country_bean_origin_list': 'Ecuador'},\n",
       "  {'specific_bean_origin_list': 'Esmeraldas'},\n",
       "  {'cocoa_percent_list': '70%'},\n",
       "  {'rating_list': 3.5},\n",
       "  {'ingredients_list_of_list': ['Beans', 'Sugar', 'Cocoa Butter', 'Lecithin']},\n",
       "  {'memorable_characteristics_list_of_list': ['nutty', 'spicy', 'floral']},\n",
       "  {'company_names_list': 'Salgado'},\n",
       "  {'review_date_list': 2008},\n",
       "  {'country_bean_origin_list': 'Venezuela'},\n",
       "  {'specific_bean_origin_list': 'Carenero Superior'},\n",
       "  {'cocoa_percent_list': '70%'},\n",
       "  {'rating_list': 3.5},\n",
       "  {'ingredients_list_of_list': ['Beans', 'Sugar', 'Cocoa Butter', 'Lecithin']},\n",
       "  {'memorable_characteristics_list_of_list': ['nutty', 'basic cocoa']},\n",
       "  {'company_names_list': 'Salgado'},\n",
       "  {'review_date_list': 2008},\n",
       "  {'country_bean_origin_list': 'Ecuador'},\n",
       "  {'specific_bean_origin_list': 'Rio Arriba'},\n",
       "  {'cocoa_percent_list': '70%'},\n",
       "  {'rating_list': 3.5},\n",
       "  {'ingredients_list_of_list': ['Beans', 'Sugar', 'Cocoa Butter', 'Lecithin']},\n",
       "  {'memorable_characteristics_list_of_list': ['floral', 'spicey']}]}"
      ]
     },
     "execution_count": 30,
     "metadata": {},
     "output_type": "execute_result"
    }
   ],
   "source": [
    "json_agg = []\n",
    "\n",
    "for row in aggregated.iterrows():\n",
    "\n",
    "    dic_add = {col:row[1][col] for col in aggregated.columns if col not in to_nest}\n",
    "    dic_add['card'] = [{col : row[1][col][i]} for i in range(row[1]['company_location_count']) for col in aggregated.columns if col in to_nest ]\n",
    "    json_agg.append(dic_add)\n",
    "\n",
    "json_agg[1]"
   ]
  },
  {
   "cell_type": "code",
   "execution_count": null,
   "metadata": {},
   "outputs": [],
   "source": [
    "# one json for bean origin\n",
    "# one for links from country to bean origin"
   ]
  },
  {
   "cell_type": "code",
   "execution_count": 31,
   "metadata": {},
   "outputs": [],
   "source": [
    "with open('jsons/aggregated_dataset.json', 'w') as outfile:\n",
    "    json.dump(json_agg, outfile, )"
   ]
  },
  {
   "cell_type": "code",
   "execution_count": 15,
   "metadata": {},
   "outputs": [
    {
     "data": {
      "text/plain": [
       "((373, 5),\n",
       " Index(['COMPANY NAME', 'CITY', 'STATE/PROVINCE', 'OWNER/MAKER', 'COUNTRY'], dtype='object'))"
      ]
     },
     "execution_count": 15,
     "metadata": {},
     "output_type": "execute_result"
    }
   ],
   "source": [
    "makers = pd.read_csv('../data/chocolate_makers.csv')\n",
    "makers.shape, makers.columns"
   ]
  },
  {
   "cell_type": "code",
   "execution_count": 17,
   "metadata": {},
   "outputs": [
    {
     "name": "stderr",
     "output_type": "stream",
     "text": [
      "100%|██████████| 59/59 [00:32<00:00,  1.82it/s]\n"
     ]
    }
   ],
   "source": [
    "places = list(makers['STATE/PROVINCE'].unique())\n",
    "\n",
    "lat_long = []\n",
    "# use geopy to extract coordinates from place names\n",
    "for place in tqdm(places): \n",
    "        loc = findGeocode(place) \n",
    "        lat_long.append({'latitude': loc.latitude, 'longitude': loc.longitude})\n"
   ]
  },
  {
   "cell_type": "code",
   "execution_count": 18,
   "metadata": {},
   "outputs": [],
   "source": [
    "with open('state_locations.json', 'w') as outfile:\n",
    "    json.dump(lat_long, outfile, )"
   ]
  },
  {
   "cell_type": "code",
   "execution_count": 21,
   "metadata": {},
   "outputs": [
    {
     "name": "stderr",
     "output_type": "stream",
     "text": [
      " 21%|██        | 55/266 [00:27<01:43,  2.03it/s]"
     ]
    },
    {
     "name": "stdout",
     "output_type": "stream",
     "text": [
      "Ascata\n"
     ]
    },
    {
     "name": "stderr",
     "output_type": "stream",
     "text": [
      " 41%|████      | 108/266 [00:53<01:24,  1.87it/s]"
     ]
    },
    {
     "name": "stdout",
     "output_type": "stream",
     "text": [
      "Anahola (Kaua'I)\n"
     ]
    },
    {
     "name": "stderr",
     "output_type": "stream",
     "text": [
      " 71%|███████   | 189/266 [01:35<00:40,  1.90it/s]"
     ]
    },
    {
     "name": "stdout",
     "output_type": "stream",
     "text": [
      "Swamanoa\n"
     ]
    },
    {
     "name": "stderr",
     "output_type": "stream",
     "text": [
      " 82%|████████▏ | 217/266 [01:49<00:24,  2.03it/s]"
     ]
    },
    {
     "name": "stdout",
     "output_type": "stream",
     "text": [
      "Chattonooga\n"
     ]
    },
    {
     "name": "stderr",
     "output_type": "stream",
     "text": [
      "100%|██████████| 266/266 [02:14<00:00,  1.97it/s]\n"
     ]
    }
   ],
   "source": [
    "places = list(makers['CITY'].unique())\n",
    "\n",
    "lat_long = []\n",
    "# use geopy to extract coordinates from place names\n",
    "for place in tqdm(places): \n",
    "        loc = findGeocode(place) \n",
    "        try:\n",
    "                lat_long.append({'latitude': loc.latitude, 'longitude': loc.longitude})\n",
    "        except:\n",
    "                print(place)"
   ]
  },
  {
   "cell_type": "code",
   "execution_count": 22,
   "metadata": {},
   "outputs": [],
   "source": [
    "with open('city_locations.json', 'w') as outfile:\n",
    "    json.dump(lat_long, outfile, )"
   ]
  },
  {
   "cell_type": "code",
   "execution_count": null,
   "metadata": {},
   "outputs": [],
   "source": []
  }
 ],
 "metadata": {
  "interpreter": {
   "hash": "8e2673524e24647dcb01ed6037d323486da29d546bf954a37cc5c6513d25d62d"
  },
  "kernelspec": {
   "display_name": "ada",
   "language": "python",
   "name": "ada"
  },
  "language_info": {
   "codemirror_mode": {
    "name": "ipython",
    "version": 3
   },
   "file_extension": ".py",
   "mimetype": "text/x-python",
   "name": "python",
   "nbconvert_exporter": "python",
   "pygments_lexer": "ipython3",
   "version": "3.8.5"
  },
  "orig_nbformat": 4
 },
 "nbformat": 4,
 "nbformat_minor": 2
}
