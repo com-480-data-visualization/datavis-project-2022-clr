{
 "cells": [
  {
   "cell_type": "code",
   "execution_count": 1,
   "metadata": {},
   "outputs": [],
   "source": [
    "import pandas as pd\n",
    "import numpy as np\n",
    "from tqdm import tqdm\n",
    "import json\n",
    "from geopy import Nominatim\n"
   ]
  },
  {
   "cell_type": "code",
   "execution_count": 2,
   "metadata": {},
   "outputs": [
    {
     "data": {
      "text/plain": [
       "((2530, 10),\n",
       " Index(['REF', 'Company (Manufacturer)', 'Company Location', 'Review Date',\n",
       "        'Country of Bean Origin', 'Specific Bean Origin or Bar Name',\n",
       "        'Cocoa Percent', 'Ingredients', 'Most Memorable Characteristics',\n",
       "        'Rating'],\n",
       "       dtype='object'))"
      ]
     },
     "execution_count": 2,
     "metadata": {},
     "output_type": "execute_result"
    }
   ],
   "source": [
    "ratings = pd.read_csv('../data/chocolate_ratings.csv')\n",
    "ratings.shape, ratings.columns"
   ]
  },
  {
   "cell_type": "code",
   "execution_count": 3,
   "metadata": {},
   "outputs": [],
   "source": [
    "ratings['Cocoa Percent Int'] = ratings['Cocoa Percent'].str[:2].astype(int)\n",
    "\n",
    "abbrev2ingredient = {'B':'Beans', 'S':'Sugar', 'S*': 'Sweetener other than white cane or beet sugar', 'C':'Cocoa Butter', \n",
    "                    'V': 'Vanilla', 'L': 'Lecithin', 'Sa': 'Salt', '':''}\n",
    "\n",
    "ratings['Ingredients List'] = [[abbrev2ingredient[x] for x in i[1].strip().split(',')] for i in ratings['Ingredients'].fillna('0 - ').str.split('-')]\n",
    "\n",
    "ratings['Most Memorable Characteristics List'] = ratings['Most Memorable Characteristics'].fillna(',').str.split(', ')"
   ]
  },
  {
   "cell_type": "code",
   "execution_count": 4,
   "metadata": {},
   "outputs": [
    {
     "data": {
      "text/html": [
       "<div>\n",
       "<style scoped>\n",
       "    .dataframe tbody tr th:only-of-type {\n",
       "        vertical-align: middle;\n",
       "    }\n",
       "\n",
       "    .dataframe tbody tr th {\n",
       "        vertical-align: top;\n",
       "    }\n",
       "\n",
       "    .dataframe thead th {\n",
       "        text-align: right;\n",
       "    }\n",
       "</style>\n",
       "<table border=\"1\" class=\"dataframe\">\n",
       "  <thead>\n",
       "    <tr style=\"text-align: right;\">\n",
       "      <th></th>\n",
       "      <th>REF</th>\n",
       "      <th>Company (Manufacturer)</th>\n",
       "      <th>Company Location</th>\n",
       "      <th>Review Date</th>\n",
       "      <th>Country of Bean Origin</th>\n",
       "      <th>Specific Bean Origin or Bar Name</th>\n",
       "      <th>Cocoa Percent</th>\n",
       "      <th>Ingredients</th>\n",
       "      <th>Most Memorable Characteristics</th>\n",
       "      <th>Rating</th>\n",
       "      <th>Cocoa Percent Int</th>\n",
       "      <th>Ingredients List</th>\n",
       "      <th>Most Memorable Characteristics List</th>\n",
       "    </tr>\n",
       "  </thead>\n",
       "  <tbody>\n",
       "    <tr>\n",
       "      <th>0</th>\n",
       "      <td>2454</td>\n",
       "      <td>5150</td>\n",
       "      <td>U.S.A.</td>\n",
       "      <td>2019</td>\n",
       "      <td>Tanzania</td>\n",
       "      <td>Kokoa Kamili, batch 1</td>\n",
       "      <td>76%</td>\n",
       "      <td>3- B,S,C</td>\n",
       "      <td>rich cocoa, fatty, bready</td>\n",
       "      <td>3.25</td>\n",
       "      <td>76</td>\n",
       "      <td>[Beans, Sugar, Cocoa Butter]</td>\n",
       "      <td>[rich cocoa, fatty, bready]</td>\n",
       "    </tr>\n",
       "    <tr>\n",
       "      <th>1</th>\n",
       "      <td>2458</td>\n",
       "      <td>5150</td>\n",
       "      <td>U.S.A.</td>\n",
       "      <td>2019</td>\n",
       "      <td>Dominican Republic</td>\n",
       "      <td>Zorzal, batch 1</td>\n",
       "      <td>76%</td>\n",
       "      <td>3- B,S,C</td>\n",
       "      <td>cocoa, vegetal, savory</td>\n",
       "      <td>3.50</td>\n",
       "      <td>76</td>\n",
       "      <td>[Beans, Sugar, Cocoa Butter]</td>\n",
       "      <td>[cocoa, vegetal, savory]</td>\n",
       "    </tr>\n",
       "    <tr>\n",
       "      <th>2</th>\n",
       "      <td>2454</td>\n",
       "      <td>5150</td>\n",
       "      <td>U.S.A.</td>\n",
       "      <td>2019</td>\n",
       "      <td>Madagascar</td>\n",
       "      <td>Bejofo Estate, batch 1</td>\n",
       "      <td>76%</td>\n",
       "      <td>3- B,S,C</td>\n",
       "      <td>cocoa, blackberry, full body</td>\n",
       "      <td>3.75</td>\n",
       "      <td>76</td>\n",
       "      <td>[Beans, Sugar, Cocoa Butter]</td>\n",
       "      <td>[cocoa, blackberry, full body]</td>\n",
       "    </tr>\n",
       "    <tr>\n",
       "      <th>3</th>\n",
       "      <td>2542</td>\n",
       "      <td>5150</td>\n",
       "      <td>U.S.A.</td>\n",
       "      <td>2021</td>\n",
       "      <td>Fiji</td>\n",
       "      <td>Matasawalevu, batch 1</td>\n",
       "      <td>68%</td>\n",
       "      <td>3- B,S,C</td>\n",
       "      <td>chewy, off, rubbery</td>\n",
       "      <td>3.00</td>\n",
       "      <td>68</td>\n",
       "      <td>[Beans, Sugar, Cocoa Butter]</td>\n",
       "      <td>[chewy, off, rubbery]</td>\n",
       "    </tr>\n",
       "    <tr>\n",
       "      <th>4</th>\n",
       "      <td>2546</td>\n",
       "      <td>5150</td>\n",
       "      <td>U.S.A.</td>\n",
       "      <td>2021</td>\n",
       "      <td>Venezuela</td>\n",
       "      <td>Sur del Lago, batch 1</td>\n",
       "      <td>72%</td>\n",
       "      <td>3- B,S,C</td>\n",
       "      <td>fatty, earthy, moss, nutty,chalky</td>\n",
       "      <td>3.00</td>\n",
       "      <td>72</td>\n",
       "      <td>[Beans, Sugar, Cocoa Butter]</td>\n",
       "      <td>[fatty, earthy, moss, nutty,chalky]</td>\n",
       "    </tr>\n",
       "  </tbody>\n",
       "</table>\n",
       "</div>"
      ],
      "text/plain": [
       "    REF Company (Manufacturer) Company Location  Review Date  \\\n",
       "0  2454                   5150           U.S.A.         2019   \n",
       "1  2458                   5150           U.S.A.         2019   \n",
       "2  2454                   5150           U.S.A.         2019   \n",
       "3  2542                   5150           U.S.A.         2021   \n",
       "4  2546                   5150           U.S.A.         2021   \n",
       "\n",
       "  Country of Bean Origin Specific Bean Origin or Bar Name Cocoa Percent  \\\n",
       "0               Tanzania            Kokoa Kamili, batch 1           76%   \n",
       "1     Dominican Republic                  Zorzal, batch 1           76%   \n",
       "2             Madagascar           Bejofo Estate, batch 1           76%   \n",
       "3                   Fiji            Matasawalevu, batch 1           68%   \n",
       "4              Venezuela            Sur del Lago, batch 1           72%   \n",
       "\n",
       "  Ingredients     Most Memorable Characteristics  Rating  Cocoa Percent Int  \\\n",
       "0    3- B,S,C          rich cocoa, fatty, bready    3.25                 76   \n",
       "1    3- B,S,C             cocoa, vegetal, savory    3.50                 76   \n",
       "2    3- B,S,C       cocoa, blackberry, full body    3.75                 76   \n",
       "3    3- B,S,C                chewy, off, rubbery    3.00                 68   \n",
       "4    3- B,S,C  fatty, earthy, moss, nutty,chalky    3.00                 72   \n",
       "\n",
       "               Ingredients List  Most Memorable Characteristics List  \n",
       "0  [Beans, Sugar, Cocoa Butter]          [rich cocoa, fatty, bready]  \n",
       "1  [Beans, Sugar, Cocoa Butter]             [cocoa, vegetal, savory]  \n",
       "2  [Beans, Sugar, Cocoa Butter]       [cocoa, blackberry, full body]  \n",
       "3  [Beans, Sugar, Cocoa Butter]                [chewy, off, rubbery]  \n",
       "4  [Beans, Sugar, Cocoa Butter]  [fatty, earthy, moss, nutty,chalky]  "
      ]
     },
     "execution_count": 4,
     "metadata": {},
     "output_type": "execute_result"
    }
   ],
   "source": [
    "ratings.head()"
   ]
  },
  {
   "cell_type": "code",
   "execution_count": 5,
   "metadata": {},
   "outputs": [],
   "source": [
    "def findGeocode(place):  \n",
    "    '''Finds the geocode of any location'''\n",
    "    try:\n",
    "        geolocator = Nominatim(user_agent=\"\") ##user agent should be created\n",
    "        return geolocator.geocode(place) \n",
    "    except Exception as e:\n",
    "        print(e)\n",
    "        return None\n"
   ]
  },
  {
   "cell_type": "markdown",
   "metadata": {},
   "source": [
    "## Companies json"
   ]
  },
  {
   "cell_type": "code",
   "execution_count": 6,
   "metadata": {},
   "outputs": [],
   "source": [
    "places = list(ratings['Company Location'].unique())"
   ]
  },
  {
   "cell_type": "code",
   "execution_count": 76,
   "metadata": {},
   "outputs": [],
   "source": [
    "# lat_long = []\n",
    "# # use geopy to extract coordinates from place names\n",
    "# for place in tqdm(places): \n",
    "#         loc = findGeocode(place) \n",
    "#         lat_long.append({'latitude': loc.latitude, 'longitude': loc.longitude})\n"
   ]
  },
  {
   "cell_type": "code",
   "execution_count": 77,
   "metadata": {},
   "outputs": [],
   "source": [
    "# with open('jsons/country_locations.json', 'w') as outfile:\n",
    "#     json.dump(lat_long, outfile, )"
   ]
  },
  {
   "cell_type": "code",
   "execution_count": 7,
   "metadata": {},
   "outputs": [
    {
     "name": "stdout",
     "output_type": "stream",
     "text": [
      "[{'latitude': 28.41769265, 'longitude': -81.58111071077724}, {'latitude': 46.603354, 'longitude': 1.8883335}]\n"
     ]
    }
   ],
   "source": [
    "with open('jsons/country_locations.json', 'r') as infile:\n",
    "    lat_long = json.load(infile, )\n",
    "\n",
    "print(lat_long[:2])\n",
    "places_dic = {places[i]:lat_long[i] for i in range(len(lat_long))}"
   ]
  },
  {
   "cell_type": "code",
   "execution_count": 8,
   "metadata": {},
   "outputs": [],
   "source": [
    "aggregations = {'Company Location': ['count', ], #'first' \n",
    "                'Company (Manufacturer)': lambda x: list(x),\n",
    "                'Review Date': [lambda x: list(x), lambda x: int(np.mean(x))], \n",
    "                'Country of Bean Origin': lambda x: list(x), \n",
    "                'Specific Bean Origin or Bar Name': lambda x: list(x),\n",
    "                'Cocoa Percent': lambda x: list(x),\n",
    "                'Cocoa Percent Int': lambda x: np.round(np.mean(x), 2),\n",
    "                'Rating': [lambda x: list(x), lambda x: np.round(np.mean(x), 2)],\n",
    "                'Ingredients List': ['sum', lambda x: list(x)],\n",
    "                'Most Memorable Characteristics List': ['sum', lambda x: list(x)],\n",
    "                }"
   ]
  },
  {
   "cell_type": "code",
   "execution_count": 16,
   "metadata": {},
   "outputs": [
    {
     "data": {
      "text/html": [
       "<div>\n",
       "<style scoped>\n",
       "    .dataframe tbody tr th:only-of-type {\n",
       "        vertical-align: middle;\n",
       "    }\n",
       "\n",
       "    .dataframe tbody tr th {\n",
       "        vertical-align: top;\n",
       "    }\n",
       "\n",
       "    .dataframe thead th {\n",
       "        text-align: right;\n",
       "    }\n",
       "</style>\n",
       "<table border=\"1\" class=\"dataframe\">\n",
       "  <thead>\n",
       "    <tr style=\"text-align: right;\">\n",
       "      <th></th>\n",
       "      <th>location_name</th>\n",
       "      <th>location_count</th>\n",
       "      <th>company_names_list</th>\n",
       "      <th>review_date_list</th>\n",
       "      <th>review_date_mean</th>\n",
       "      <th>country_bean_origin_list</th>\n",
       "      <th>specific_bean_origin_list</th>\n",
       "      <th>cocoa_percent_list</th>\n",
       "      <th>cocoa_percent_mean</th>\n",
       "      <th>rating_list</th>\n",
       "      <th>rating_mean</th>\n",
       "      <th>ingredients_lists</th>\n",
       "      <th>ingredients_list_list</th>\n",
       "      <th>memorable_characteristics_lists</th>\n",
       "      <th>memorable_characteristics_list_list</th>\n",
       "      <th>latitude</th>\n",
       "      <th>longitude</th>\n",
       "    </tr>\n",
       "  </thead>\n",
       "  <tbody>\n",
       "    <tr>\n",
       "      <th>14</th>\n",
       "      <td>Ecuador</td>\n",
       "      <td>58</td>\n",
       "      <td>[Aequare (Gianduja), Aequare (Gianduja), Bouga...</td>\n",
       "      <td>[2009, 2009, 2009, 2009, 2008, 2008, 2008, 200...</td>\n",
       "      <td>2010</td>\n",
       "      <td>[Ecuador, Ecuador, Ecuador, Ecuador, Ecuador, ...</td>\n",
       "      <td>[Los Rios, Quevedo, Arriba, Los Rios, Quevedo,...</td>\n",
       "      <td>[55%, 70%, 100%, 77%, 91%, 82%, 63%, 71%, 77%,...</td>\n",
       "      <td>69.28</td>\n",
       "      <td>[2.75, 3.0, 1.5, 3.25, 1.5, 2.5, 3.5, 3.5, 2.0...</td>\n",
       "      <td>3.04</td>\n",
       "      <td>[Beans, Sugar, Cocoa Butter, Vanilla, Beans, S...</td>\n",
       "      <td>[[Beans, Sugar, Cocoa Butter, Vanilla], [Beans...</td>\n",
       "      <td>[sandy, sweet, banana cream, roasty, nutty, co...</td>\n",
       "      <td>[[sandy, sweet, banana cream], [roasty, nutty,...</td>\n",
       "      <td>-1.339767</td>\n",
       "      <td>-79.366697</td>\n",
       "    </tr>\n",
       "  </tbody>\n",
       "</table>\n",
       "</div>"
      ],
      "text/plain": [
       "   location_name  location_count  \\\n",
       "14       Ecuador              58   \n",
       "\n",
       "                                   company_names_list  \\\n",
       "14  [Aequare (Gianduja), Aequare (Gianduja), Bouga...   \n",
       "\n",
       "                                     review_date_list  review_date_mean  \\\n",
       "14  [2009, 2009, 2009, 2009, 2008, 2008, 2008, 200...              2010   \n",
       "\n",
       "                             country_bean_origin_list  \\\n",
       "14  [Ecuador, Ecuador, Ecuador, Ecuador, Ecuador, ...   \n",
       "\n",
       "                            specific_bean_origin_list  \\\n",
       "14  [Los Rios, Quevedo, Arriba, Los Rios, Quevedo,...   \n",
       "\n",
       "                                   cocoa_percent_list  cocoa_percent_mean  \\\n",
       "14  [55%, 70%, 100%, 77%, 91%, 82%, 63%, 71%, 77%,...               69.28   \n",
       "\n",
       "                                          rating_list  rating_mean  \\\n",
       "14  [2.75, 3.0, 1.5, 3.25, 1.5, 2.5, 3.5, 3.5, 2.0...         3.04   \n",
       "\n",
       "                                    ingredients_lists  \\\n",
       "14  [Beans, Sugar, Cocoa Butter, Vanilla, Beans, S...   \n",
       "\n",
       "                                ingredients_list_list  \\\n",
       "14  [[Beans, Sugar, Cocoa Butter, Vanilla], [Beans...   \n",
       "\n",
       "                      memorable_characteristics_lists  \\\n",
       "14  [sandy, sweet, banana cream, roasty, nutty, co...   \n",
       "\n",
       "                  memorable_characteristics_list_list  latitude  longitude  \n",
       "14  [[sandy, sweet, banana cream], [roasty, nutty,... -1.339767 -79.366697  "
      ]
     },
     "execution_count": 16,
     "metadata": {},
     "output_type": "execute_result"
    }
   ],
   "source": [
    "aggregated = ratings.groupby('Company Location').agg(aggregations).reset_index()\n",
    "aggregated.columns = ['location_name', 'location_count', 'company_names_list', 'review_date_list', 'review_date_mean', 'country_bean_origin_list',\n",
    "                      'specific_bean_origin_list', 'cocoa_percent_list', 'cocoa_percent_mean', 'rating_list', 'rating_mean', 'ingredients_lists',\n",
    "                      'ingredients_list_list', 'memorable_characteristics_lists', 'memorable_characteristics_list_list']\n",
    "aggregated['latitude'] = [places_dic[loc]['latitude'] for loc in aggregated['location_name']]\n",
    "aggregated['longitude'] = [places_dic[loc]['longitude'] for loc in aggregated['location_name']]\n",
    "aggregated.sample()"
   ]
  },
  {
   "cell_type": "code",
   "execution_count": 17,
   "metadata": {},
   "outputs": [
    {
     "data": {
      "text/plain": [
       "['company_names_list',\n",
       " 'review_date_list',\n",
       " 'country_bean_origin_list',\n",
       " 'specific_bean_origin_list',\n",
       " 'cocoa_percent_list',\n",
       " 'rating_list',\n",
       " 'ingredients_list_list',\n",
       " 'memorable_characteristics_list_list']"
      ]
     },
     "execution_count": 17,
     "metadata": {},
     "output_type": "execute_result"
    }
   ],
   "source": [
    "to_nest = [col for col in aggregated.columns if col.split('_')[-1] == 'list']\n",
    "to_nest"
   ]
  },
  {
   "cell_type": "code",
   "execution_count": 18,
   "metadata": {},
   "outputs": [],
   "source": [
    "json_agg = []\n",
    "\n",
    "for row in aggregated.iterrows():\n",
    "\n",
    "    dic_add = {col:row[1][col] for col in aggregated.columns if col not in to_nest}\n",
    "    dic_add['card'] = [{'_'.join(col.split('_')[:-1]) : row[1][col][i] for col in aggregated.columns if col in to_nest} for i in range(row[1]['location_count']) ]\n",
    "    json_agg.append(dic_add)"
   ]
  },
  {
   "cell_type": "code",
   "execution_count": 19,
   "metadata": {},
   "outputs": [
    {
     "data": {
      "text/plain": [
       "{'location_name': 'Amsterdam',\n",
       " 'location_count': 12,\n",
       " 'review_date_mean': 2016,\n",
       " 'cocoa_percent_mean': 70.75,\n",
       " 'rating_mean': 3.31,\n",
       " 'ingredients_lists': ['Beans',\n",
       "  'Sugar',\n",
       "  'Cocoa Butter',\n",
       "  'Beans',\n",
       "  'Sugar',\n",
       "  'Cocoa Butter',\n",
       "  'Beans',\n",
       "  'Sugar',\n",
       "  'Cocoa Butter',\n",
       "  'Beans',\n",
       "  'Sugar',\n",
       "  'Beans',\n",
       "  'Sugar',\n",
       "  'Beans',\n",
       "  'Sugar',\n",
       "  'Beans',\n",
       "  'Sugar',\n",
       "  'Beans',\n",
       "  'Sugar',\n",
       "  'Beans',\n",
       "  'Sugar',\n",
       "  'Beans',\n",
       "  'Sugar',\n",
       "  'Beans',\n",
       "  'Sugar',\n",
       "  'Vanilla',\n",
       "  'Beans',\n",
       "  'Sweetener other than white cane or beet sugar',\n",
       "  'Cocoa Butter'],\n",
       " 'memorable_characteristics_lists': ['earthy',\n",
       "  'coffee',\n",
       "  'mild',\n",
       "  'tang',\n",
       "  'bold',\n",
       "  'rich cocoa',\n",
       "  'coffee',\n",
       "  'nuts',\n",
       "  'coffee',\n",
       "  'peanut butter',\n",
       "  'gritty',\n",
       "  'sour',\n",
       "  'berries',\n",
       "  'sticky',\n",
       "  'molasses',\n",
       "  'sour',\n",
       "  'medium roast',\n",
       "  'nutty',\n",
       "  'roasty',\n",
       "  'nutty',\n",
       "  'nuts',\n",
       "  'dried fruit',\n",
       "  'grassy',\n",
       "  'intense',\n",
       "  'high acidity',\n",
       "  'astringent',\n",
       "  'smomkey cocoa',\n",
       "  'accesible',\n",
       "  'simple cocoa note',\n",
       "  'nuts',\n",
       "  'fruit',\n",
       "  'cocoa'],\n",
       " 'latitude': 52.3727598,\n",
       " 'longitude': 4.8936041,\n",
       " 'card': [{'company_names': 'Chocolate Makers',\n",
       "   'review_date': 2015,\n",
       "   'country_bean_origin': 'Dominican Republic',\n",
       "   'specific_bean_origin': 'Tres Hombres',\n",
       "   'cocoa_percent': '75%',\n",
       "   'rating': 3.25,\n",
       "   'ingredients_list': ['Beans', 'Sugar', 'Cocoa Butter'],\n",
       "   'memorable_characteristics_list': ['earthy', 'coffee', 'mild', 'tang']},\n",
       "  {'company_names': 'Chocolate Makers',\n",
       "   'review_date': 2015,\n",
       "   'country_bean_origin': 'Congo',\n",
       "   'specific_bean_origin': 'Congo, Gorilla bar',\n",
       "   'cocoa_percent': '68%',\n",
       "   'rating': 3.5,\n",
       "   'ingredients_list': ['Beans', 'Sugar', 'Cocoa Butter'],\n",
       "   'memorable_characteristics_list': ['bold', 'rich cocoa', 'coffee']},\n",
       "  {'company_names': 'Chocolate Makers',\n",
       "   'review_date': 2015,\n",
       "   'country_bean_origin': 'Peru',\n",
       "   'specific_bean_origin': 'Peru, Awagum bar',\n",
       "   'cocoa_percent': '80%',\n",
       "   'rating': 3.75,\n",
       "   'ingredients_list': ['Beans', 'Sugar', 'Cocoa Butter'],\n",
       "   'memorable_characteristics_list': ['nuts', 'coffee', 'peanut butter']},\n",
       "  {'company_names': 'Krak',\n",
       "   'review_date': 2017,\n",
       "   'country_bean_origin': 'Belize',\n",
       "   'specific_bean_origin': 'Belize',\n",
       "   'cocoa_percent': '70%',\n",
       "   'rating': 3.0,\n",
       "   'ingredients_list': ['Beans', 'Sugar'],\n",
       "   'memorable_characteristics_list': ['gritty', 'sour', 'berries']},\n",
       "  {'company_names': 'Krak',\n",
       "   'review_date': 2017,\n",
       "   'country_bean_origin': 'Vietnam',\n",
       "   'specific_bean_origin': 'Vietnam',\n",
       "   'cocoa_percent': '70%',\n",
       "   'rating': 3.0,\n",
       "   'ingredients_list': ['Beans', 'Sugar'],\n",
       "   'memorable_characteristics_list': ['sticky', 'molasses', 'sour']},\n",
       "  {'company_names': 'Krak',\n",
       "   'review_date': 2017,\n",
       "   'country_bean_origin': 'Mexico',\n",
       "   'specific_bean_origin': 'Xoconusco',\n",
       "   'cocoa_percent': '70%',\n",
       "   'rating': 3.25,\n",
       "   'ingredients_list': ['Beans', 'Sugar'],\n",
       "   'memorable_characteristics_list': ['medium roast', 'nutty']},\n",
       "  {'company_names': 'Krak',\n",
       "   'review_date': 2018,\n",
       "   'country_bean_origin': 'Madagascar',\n",
       "   'specific_bean_origin': \"Mava Sa Ferme D'ottange\",\n",
       "   'cocoa_percent': '70%',\n",
       "   'rating': 3.0,\n",
       "   'ingredients_list': ['Beans', 'Sugar'],\n",
       "   'memorable_characteristics_list': ['roasty', 'nutty']},\n",
       "  {'company_names': 'Krak',\n",
       "   'review_date': 2018,\n",
       "   'country_bean_origin': 'Philippines',\n",
       "   'specific_bean_origin': 'Kablon Farm',\n",
       "   'cocoa_percent': '70%',\n",
       "   'rating': 3.25,\n",
       "   'ingredients_list': ['Beans', 'Sugar'],\n",
       "   'memorable_characteristics_list': ['nuts', 'dried fruit', 'grassy']},\n",
       "  {'company_names': 'Krak',\n",
       "   'review_date': 2018,\n",
       "   'country_bean_origin': 'Mexico',\n",
       "   'specific_bean_origin': 'Xoconusco, triple turned',\n",
       "   'cocoa_percent': '70%',\n",
       "   'rating': 3.75,\n",
       "   'ingredients_list': ['Beans', 'Sugar'],\n",
       "   'memorable_characteristics_list': ['intense', 'high acidity']},\n",
       "  {'company_names': 'Krak',\n",
       "   'review_date': 2019,\n",
       "   'country_bean_origin': 'Papua New Guinea',\n",
       "   'specific_bean_origin': 'Gazelle',\n",
       "   'cocoa_percent': '70%',\n",
       "   'rating': 3.25,\n",
       "   'ingredients_list': ['Beans', 'Sugar'],\n",
       "   'memorable_characteristics_list': ['astringent', 'smomkey cocoa']},\n",
       "  {'company_names': 'Metropolitan',\n",
       "   'review_date': 2015,\n",
       "   'country_bean_origin': 'Blend',\n",
       "   'specific_bean_origin': 'South America',\n",
       "   'cocoa_percent': '70%',\n",
       "   'rating': 3.5,\n",
       "   'ingredients_list': ['Beans', 'Sugar', 'Vanilla'],\n",
       "   'memorable_characteristics_list': ['accesible', 'simple cocoa note']},\n",
       "  {'company_names': 'Soeka',\n",
       "   'review_date': 2018,\n",
       "   'country_bean_origin': 'Sulawesi',\n",
       "   'specific_bean_origin': 'Sulawesi',\n",
       "   'cocoa_percent': '66%',\n",
       "   'rating': 3.25,\n",
       "   'ingredients_list': ['Beans',\n",
       "    'Sweetener other than white cane or beet sugar',\n",
       "    'Cocoa Butter'],\n",
       "   'memorable_characteristics_list': ['nuts', 'fruit', 'cocoa']}]}"
      ]
     },
     "execution_count": 19,
     "metadata": {},
     "output_type": "execute_result"
    }
   ],
   "source": [
    "json_agg[0]"
   ]
  },
  {
   "cell_type": "code",
   "execution_count": 20,
   "metadata": {},
   "outputs": [],
   "source": [
    "with open('jsons/aggregated_dataset.json', 'w') as outfile:\n",
    "    json.dump(json_agg, outfile, )"
   ]
  },
  {
   "cell_type": "markdown",
   "metadata": {},
   "source": [
    "## Beans json"
   ]
  },
  {
   "cell_type": "code",
   "execution_count": 21,
   "metadata": {},
   "outputs": [],
   "source": [
    "# one json for bean origin\n",
    "# one for links from country to bean origin\n",
    "\n",
    "places = list(ratings['Country of Bean Origin'].unique())"
   ]
  },
  {
   "cell_type": "code",
   "execution_count": 85,
   "metadata": {},
   "outputs": [],
   "source": [
    "# lat_long = []\n",
    "# # use geopy to extract coordinates from place names\n",
    "# for place in tqdm(places): \n",
    "#         loc = findGeocode(place) \n",
    "#         lat_long.append({'latitude': loc.latitude, 'longitude': loc.longitude})"
   ]
  },
  {
   "cell_type": "code",
   "execution_count": 86,
   "metadata": {},
   "outputs": [],
   "source": [
    "# with open('jsons/beans_locations.json', 'w') as outfile:\n",
    "#     json.dump(lat_long, outfile, )"
   ]
  },
  {
   "cell_type": "code",
   "execution_count": 22,
   "metadata": {},
   "outputs": [
    {
     "name": "stdout",
     "output_type": "stream",
     "text": [
      "[{'latitude': -6.5247123, 'longitude': 35.7878438}, {'latitude': 19.0974031, 'longitude': -70.3028026}]\n"
     ]
    }
   ],
   "source": [
    "with open('jsons/beans_locations.json', 'r') as infile:\n",
    "    lat_long_beans = json.load(infile, )\n",
    "\n",
    "print(lat_long_beans[:2])\n",
    "places_dic_beans = {places[i]:lat_long_beans[i] for i in range(len(lat_long_beans))}"
   ]
  },
  {
   "cell_type": "code",
   "execution_count": 23,
   "metadata": {},
   "outputs": [],
   "source": [
    "aggregations_beans = {'Country of Bean Origin': ['count', ], #'first' \n",
    "                'Company (Manufacturer)': lambda x: list(x),\n",
    "                'Review Date': [lambda x: list(x), lambda x: int(np.mean(x))], \n",
    "                'Company Location': lambda x: list(x), \n",
    "                'Specific Bean Origin or Bar Name': lambda x: list(x),\n",
    "                'Cocoa Percent': lambda x: list(x),\n",
    "                'Cocoa Percent Int': lambda x: np.round(np.mean(x), 2),\n",
    "                'Rating': [lambda x: list(x), lambda x: np.round(np.mean(x), 2)],\n",
    "                'Ingredients List': ['sum', lambda x: list(x)],\n",
    "                'Most Memorable Characteristics List': ['sum', lambda x: list(x)],\n",
    "                }"
   ]
  },
  {
   "cell_type": "code",
   "execution_count": 24,
   "metadata": {},
   "outputs": [
    {
     "data": {
      "text/html": [
       "<div>\n",
       "<style scoped>\n",
       "    .dataframe tbody tr th:only-of-type {\n",
       "        vertical-align: middle;\n",
       "    }\n",
       "\n",
       "    .dataframe tbody tr th {\n",
       "        vertical-align: top;\n",
       "    }\n",
       "\n",
       "    .dataframe thead th {\n",
       "        text-align: right;\n",
       "    }\n",
       "</style>\n",
       "<table border=\"1\" class=\"dataframe\">\n",
       "  <thead>\n",
       "    <tr style=\"text-align: right;\">\n",
       "      <th></th>\n",
       "      <th>location_name</th>\n",
       "      <th>location_count</th>\n",
       "      <th>company_names_list</th>\n",
       "      <th>review_date_list</th>\n",
       "      <th>review_date_mean</th>\n",
       "      <th>company_location_list</th>\n",
       "      <th>specific_bean_origin_list</th>\n",
       "      <th>cocoa_percent_list</th>\n",
       "      <th>cocoa_percent_mean</th>\n",
       "      <th>rating_list</th>\n",
       "      <th>rating_mean</th>\n",
       "      <th>ingredients_lists</th>\n",
       "      <th>ingredients_list_list</th>\n",
       "      <th>memorable_characteristics_lists</th>\n",
       "      <th>memorable_characteristics_list_list</th>\n",
       "      <th>latitude</th>\n",
       "      <th>longitude</th>\n",
       "    </tr>\n",
       "  </thead>\n",
       "  <tbody>\n",
       "    <tr>\n",
       "      <th>49</th>\n",
       "      <td>Sumatra</td>\n",
       "      <td>1</td>\n",
       "      <td>[Love Brown]</td>\n",
       "      <td>[2018]</td>\n",
       "      <td>2018</td>\n",
       "      <td>[Taiwan]</td>\n",
       "      <td>[Sumatra]</td>\n",
       "      <td>[70%]</td>\n",
       "      <td>70.0</td>\n",
       "      <td>[3.0]</td>\n",
       "      <td>3.0</td>\n",
       "      <td>[Beans, Sugar]</td>\n",
       "      <td>[[Beans, Sugar]]</td>\n",
       "      <td>[smokey, earthy, cocoa]</td>\n",
       "      <td>[[smokey, earthy, cocoa]]</td>\n",
       "      <td>-0.143294</td>\n",
       "      <td>101.624102</td>\n",
       "    </tr>\n",
       "  </tbody>\n",
       "</table>\n",
       "</div>"
      ],
      "text/plain": [
       "   location_name  location_count company_names_list review_date_list  \\\n",
       "49       Sumatra               1       [Love Brown]           [2018]   \n",
       "\n",
       "    review_date_mean company_location_list specific_bean_origin_list  \\\n",
       "49              2018              [Taiwan]                 [Sumatra]   \n",
       "\n",
       "   cocoa_percent_list  cocoa_percent_mean rating_list  rating_mean  \\\n",
       "49              [70%]                70.0       [3.0]          3.0   \n",
       "\n",
       "   ingredients_lists ingredients_list_list memorable_characteristics_lists  \\\n",
       "49    [Beans, Sugar]      [[Beans, Sugar]]         [smokey, earthy, cocoa]   \n",
       "\n",
       "   memorable_characteristics_list_list  latitude   longitude  \n",
       "49           [[smokey, earthy, cocoa]] -0.143294  101.624102  "
      ]
     },
     "execution_count": 24,
     "metadata": {},
     "output_type": "execute_result"
    }
   ],
   "source": [
    "aggregated_beans = ratings.groupby('Country of Bean Origin').agg(aggregations_beans).reset_index()\n",
    "aggregated_beans.columns = ['location_name', 'location_count', 'company_names_list', 'review_date_list', 'review_date_mean', 'company_location_list',\n",
    "                      'specific_bean_origin_list', 'cocoa_percent_list', 'cocoa_percent_mean', 'rating_list', 'rating_mean', 'ingredients_lists',\n",
    "                      'ingredients_list_list', 'memorable_characteristics_lists', 'memorable_characteristics_list_list']\n",
    "aggregated_beans['latitude'] = [places_dic_beans[loc]['latitude'] for loc in aggregated_beans['location_name']]\n",
    "aggregated_beans['longitude'] = [places_dic_beans[loc]['longitude'] for loc in aggregated_beans['location_name']]\n",
    "aggregated_beans.sample()"
   ]
  },
  {
   "cell_type": "code",
   "execution_count": 25,
   "metadata": {},
   "outputs": [],
   "source": [
    "to_nest = [col for col in aggregated_beans.columns if col.split('_')[-1] == 'list']\n",
    "\n",
    "json_agg_beans = []\n",
    "\n",
    "for row in aggregated_beans.iterrows():\n",
    "\n",
    "    dic_add = {col:row[1][col] for col in aggregated_beans.columns if col not in to_nest}\n",
    "    dic_add['card'] = [{'_'.join(col.split('_')[:-1]) : row[1][col][i] for col in aggregated_beans.columns if col in to_nest} for i in range(row[1]['location_count']) ]\n",
    "    json_agg_beans.append(dic_add)\n"
   ]
  },
  {
   "cell_type": "code",
   "execution_count": 26,
   "metadata": {},
   "outputs": [
    {
     "data": {
      "text/plain": [
       "{'location_name': 'Australia',\n",
       " 'location_count': 3,\n",
       " 'review_date_mean': 2014,\n",
       " 'cocoa_percent_mean': 69.0,\n",
       " 'rating_mean': 3.25,\n",
       " 'ingredients_lists': ['Beans',\n",
       "  'Sugar',\n",
       "  'Cocoa Butter',\n",
       "  'Vanilla',\n",
       "  'Lecithin',\n",
       "  'Beans',\n",
       "  'Sugar',\n",
       "  'Cocoa Butter',\n",
       "  'Beans',\n",
       "  'Sugar',\n",
       "  'Cocoa Butter'],\n",
       " 'memorable_characteristics_lists': ['vanilla',\n",
       "  'banana',\n",
       "  'citrus',\n",
       "  'sandy',\n",
       "  'candy like vanilla',\n",
       "  'off',\n",
       "  'delicate',\n",
       "  'smooth',\n",
       "  'dairy'],\n",
       " 'latitude': -24.7761086,\n",
       " 'longitude': 134.755,\n",
       " 'card': [{'company_names': 'Daintree',\n",
       "   'review_date': 2011,\n",
       "   'company_location': 'Australia',\n",
       "   'specific_bean_origin': 'Daintree Estates, N. Queensland',\n",
       "   'cocoa_percent': '70%',\n",
       "   'rating': 3.25,\n",
       "   'ingredients_list': ['Beans',\n",
       "    'Sugar',\n",
       "    'Cocoa Butter',\n",
       "    'Vanilla',\n",
       "    'Lecithin'],\n",
       "   'memorable_characteristics_list': ['vanilla', 'banana', 'citrus']},\n",
       "  {'company_names': 'Daintree',\n",
       "   'review_date': 2015,\n",
       "   'company_location': 'Australia',\n",
       "   'specific_bean_origin': 'Goodman Estate',\n",
       "   'cocoa_percent': '70%',\n",
       "   'rating': 2.75,\n",
       "   'ingredients_list': ['Beans', 'Sugar', 'Cocoa Butter'],\n",
       "   'memorable_characteristics_list': ['sandy', 'candy like vanilla', 'off']},\n",
       "  {'company_names': 'Smooth Chocolator, The',\n",
       "   'review_date': 2016,\n",
       "   'company_location': 'Australia',\n",
       "   'specific_bean_origin': 'Australia',\n",
       "   'cocoa_percent': '67%',\n",
       "   'rating': 3.75,\n",
       "   'ingredients_list': ['Beans', 'Sugar', 'Cocoa Butter'],\n",
       "   'memorable_characteristics_list': ['delicate', 'smooth', 'dairy']}]}"
      ]
     },
     "execution_count": 26,
     "metadata": {},
     "output_type": "execute_result"
    }
   ],
   "source": [
    "json_agg_beans[0]"
   ]
  },
  {
   "cell_type": "code",
   "execution_count": 27,
   "metadata": {},
   "outputs": [],
   "source": [
    "with open('jsons/bean_dataset.json', 'w') as outfile:\n",
    "    json.dump(json_agg_beans, outfile, )"
   ]
  },
  {
   "cell_type": "markdown",
   "metadata": {},
   "source": [
    "## Links json"
   ]
  },
  {
   "cell_type": "code",
   "execution_count": 128,
   "metadata": {},
   "outputs": [],
   "source": [
    "aggregations_link = {\n",
    "                'Company Location': 'first', \n",
    "                'Country of Bean Origin': 'first', #'first' \n",
    "                'Company (Manufacturer)': lambda x: list(x),\n",
    "                }"
   ]
  },
  {
   "cell_type": "code",
   "execution_count": 129,
   "metadata": {},
   "outputs": [
    {
     "data": {
      "text/html": [
       "<div>\n",
       "<style scoped>\n",
       "    .dataframe tbody tr th:only-of-type {\n",
       "        vertical-align: middle;\n",
       "    }\n",
       "\n",
       "    .dataframe tbody tr th {\n",
       "        vertical-align: top;\n",
       "    }\n",
       "\n",
       "    .dataframe thead th {\n",
       "        text-align: right;\n",
       "    }\n",
       "</style>\n",
       "<table border=\"1\" class=\"dataframe\">\n",
       "  <thead>\n",
       "    <tr style=\"text-align: right;\">\n",
       "      <th></th>\n",
       "      <th>company_location_name</th>\n",
       "      <th>bean_location_name</th>\n",
       "      <th>company_names_list</th>\n",
       "      <th>latitude</th>\n",
       "      <th>longitude</th>\n",
       "      <th>latitude_beans</th>\n",
       "      <th>longitude_beans</th>\n",
       "      <th>link_name</th>\n",
       "      <th>link_count</th>\n",
       "    </tr>\n",
       "  </thead>\n",
       "  <tbody>\n",
       "    <tr>\n",
       "      <th>181</th>\n",
       "      <td>Ghana</td>\n",
       "      <td>Ghana</td>\n",
       "      <td>[Omanhene]</td>\n",
       "      <td>8.030028</td>\n",
       "      <td>-1.080027</td>\n",
       "      <td>8.030028</td>\n",
       "      <td>-1.080027</td>\n",
       "      <td>Ghana_Ghana</td>\n",
       "      <td>1</td>\n",
       "    </tr>\n",
       "  </tbody>\n",
       "</table>\n",
       "</div>"
      ],
      "text/plain": [
       "    company_location_name bean_location_name company_names_list  latitude  \\\n",
       "181                 Ghana              Ghana         [Omanhene]  8.030028   \n",
       "\n",
       "     longitude  latitude_beans  longitude_beans    link_name  link_count  \n",
       "181  -1.080027        8.030028        -1.080027  Ghana_Ghana           1  "
      ]
     },
     "execution_count": 129,
     "metadata": {},
     "output_type": "execute_result"
    }
   ],
   "source": [
    "aggregated_links = ratings.groupby(['Company Location', 'Country of Bean Origin']).agg(aggregations_link)#.reset_index()\n",
    "aggregated_links.columns = ['company_location_name', 'bean_location_name', 'company_names_list',  ]\n",
    "aggregated_links = aggregated_links.reset_index() \n",
    "aggregated_links['latitude'] = [places_dic[loc]['latitude'] for loc in aggregated_links['company_location_name']]\n",
    "aggregated_links['longitude'] = [places_dic[loc]['longitude'] for loc in aggregated_links['company_location_name']]\n",
    "aggregated_links['latitude_beans'] = [places_dic_beans[loc]['latitude'] for loc in aggregated_links['bean_location_name']]\n",
    "aggregated_links['longitude_beans'] = [places_dic_beans[loc]['longitude'] for loc in aggregated_links['bean_location_name']]\n",
    "\n",
    "aggregated_links['link_name'] = aggregated_links['Company Location'] + '_' + aggregated_links['Country of Bean Origin']\n",
    "aggregated_links = aggregated_links.drop(columns=['Company Location', 'Country of Bean Origin'])\n",
    "aggregated_links['link_count'] = aggregated_links['company_names_list'].str.len()\n",
    "aggregated_links.sample()"
   ]
  },
  {
   "cell_type": "code",
   "execution_count": 132,
   "metadata": {},
   "outputs": [],
   "source": [
    "to_nest = [col for col in aggregated_links.columns if col.split('_')[-1] == 'list']\n",
    "\n",
    "json_agg_links = []\n",
    "\n",
    "for row in aggregated_links.iterrows():\n",
    "\n",
    "    dic_add = {col:row[1][col] for col in aggregated_links.columns if col not in to_nest}\n",
    "    dic_add['card'] = [{'_'.join(col.split('_')[:-2]) : row[1][col][i] for col in aggregated_links.columns if col in to_nest} for i in range(row[1]['link_count']) ]\n",
    "    json_agg_links.append(dic_add)\n"
   ]
  },
  {
   "cell_type": "code",
   "execution_count": 133,
   "metadata": {},
   "outputs": [],
   "source": [
    "with open('jsons/link_dataset.json', 'w') as outfile:\n",
    "    json.dump(json_agg_links, outfile, )"
   ]
  },
  {
   "cell_type": "markdown",
   "metadata": {},
   "source": [
    "## For the future: makers locations"
   ]
  },
  {
   "cell_type": "code",
   "execution_count": 92,
   "metadata": {},
   "outputs": [
    {
     "data": {
      "text/plain": [
       "((373, 5),\n",
       " Index(['COMPANY NAME', 'CITY', 'STATE/PROVINCE', 'OWNER/MAKER', 'COUNTRY'], dtype='object'))"
      ]
     },
     "execution_count": 92,
     "metadata": {},
     "output_type": "execute_result"
    }
   ],
   "source": [
    "makers = pd.read_csv('../data/chocolate_makers.csv')\n",
    "makers.shape, makers.columns"
   ]
  },
  {
   "cell_type": "code",
   "execution_count": 93,
   "metadata": {},
   "outputs": [],
   "source": [
    "places = list(makers['STATE/PROVINCE'].unique())\n",
    "\n",
    "# lat_long = []\n",
    "# # use geopy to extract coordinates from place names\n",
    "# for place in tqdm(places): \n",
    "#         loc = findGeocode(place) \n",
    "#         lat_long.append({'latitude': loc.latitude, 'longitude': loc.longitude})\n"
   ]
  },
  {
   "cell_type": "code",
   "execution_count": 94,
   "metadata": {},
   "outputs": [],
   "source": [
    "# with open('state_locations.json', 'w') as outfile:\n",
    "#     json.dump(lat_long, outfile, )"
   ]
  },
  {
   "cell_type": "code",
   "execution_count": 95,
   "metadata": {},
   "outputs": [],
   "source": [
    "places = list(makers['CITY'].unique())\n",
    "\n",
    "# lat_long = []\n",
    "# # use geopy to extract coordinates from place names\n",
    "# for place in tqdm(places): \n",
    "#         loc = findGeocode(place) \n",
    "#         try:\n",
    "#                 lat_long.append({'latitude': loc.latitude, 'longitude': loc.longitude})\n",
    "#         except:\n",
    "#                 print(place)"
   ]
  },
  {
   "cell_type": "code",
   "execution_count": 96,
   "metadata": {},
   "outputs": [],
   "source": [
    "# with open('city_locations.json', 'w') as outfile:\n",
    "#     json.dump(lat_long, outfile, )"
   ]
  },
  {
   "cell_type": "code",
   "execution_count": null,
   "metadata": {},
   "outputs": [],
   "source": []
  }
 ],
 "metadata": {
  "interpreter": {
   "hash": "8e2673524e24647dcb01ed6037d323486da29d546bf954a37cc5c6513d25d62d"
  },
  "kernelspec": {
   "display_name": "ada",
   "language": "python",
   "name": "ada"
  },
  "language_info": {
   "codemirror_mode": {
    "name": "ipython",
    "version": 3
   },
   "file_extension": ".py",
   "mimetype": "text/x-python",
   "name": "python",
   "nbconvert_exporter": "python",
   "pygments_lexer": "ipython3",
   "version": "3.8.5"
  },
  "orig_nbformat": 4
 },
 "nbformat": 4,
 "nbformat_minor": 2
}
